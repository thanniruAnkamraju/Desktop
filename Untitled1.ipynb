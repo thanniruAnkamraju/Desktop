{
 "cells": [
  {
   "cell_type": "code",
   "execution_count": 12,
   "id": "b8f9fa5e",
   "metadata": {},
   "outputs": [],
   "source": [
    "from tkinter import *\n",
    "import pandas as pd\n",
    "import tkinter as tk\n",
    "import openpyxl,xlrd\n",
    "from openpyxl import Workbook\n",
    "import pathlib"
   ]
  },
  {
   "cell_type": "code",
   "execution_count": 15,
   "id": "31e65016",
   "metadata": {},
   "outputs": [
    {
     "ename": "AttributeError",
     "evalue": "module 'pandas' has no attribute 'append_excel'",
     "output_type": "error",
     "traceback": [
      "\u001b[1;31m---------------------------------------------------------------------------\u001b[0m",
      "\u001b[1;31mAttributeError\u001b[0m                            Traceback (most recent call last)",
      "\u001b[1;32m~\\AppData\\Local\\Temp\\ipykernel_7488\\147608050.py\u001b[0m in \u001b[0;36m<module>\u001b[1;34m\u001b[0m\n\u001b[0;32m      3\u001b[0m \u001b[0mbase\u001b[0m\u001b[1;33m.\u001b[0m\u001b[0mtitle\u001b[0m\u001b[1;33m(\u001b[0m\u001b[1;34m\"registration form\"\u001b[0m\u001b[1;33m)\u001b[0m\u001b[1;33m\u001b[0m\u001b[1;33m\u001b[0m\u001b[0m\n\u001b[0;32m      4\u001b[0m \u001b[1;33m\u001b[0m\u001b[0m\n\u001b[1;32m----> 5\u001b[1;33m \u001b[0mfile\u001b[0m \u001b[1;33m=\u001b[0m \u001b[0mpd\u001b[0m\u001b[1;33m.\u001b[0m\u001b[0mappend_excel\u001b[0m\u001b[1;33m(\u001b[0m\u001b[1;34m\"C:\\\\Users\\\\ThanniruAnkamraju\\\\OneDrive - Leading T\\\\data.xlsx\"\u001b[0m\u001b[1;33m)\u001b[0m\u001b[1;33m\u001b[0m\u001b[1;33m\u001b[0m\u001b[0m\n\u001b[0m\u001b[0;32m      6\u001b[0m \u001b[1;32mif\u001b[0m \u001b[0mfile\u001b[0m\u001b[1;33m.\u001b[0m\u001b[0mexits\u001b[0m \u001b[1;33m(\u001b[0m\u001b[1;33m)\u001b[0m\u001b[1;33m:\u001b[0m\u001b[1;33m\u001b[0m\u001b[1;33m\u001b[0m\u001b[0m\n\u001b[0;32m      7\u001b[0m     \u001b[1;32mpass\u001b[0m\u001b[1;33m\u001b[0m\u001b[1;33m\u001b[0m\u001b[0m\n",
      "\u001b[1;32m~\\anaconda3\\lib\\site-packages\\pandas\\__init__.py\u001b[0m in \u001b[0;36m__getattr__\u001b[1;34m(name)\u001b[0m\n\u001b[0;32m    259\u001b[0m         \u001b[1;32mreturn\u001b[0m \u001b[0m_SparseArray\u001b[0m\u001b[1;33m\u001b[0m\u001b[1;33m\u001b[0m\u001b[0m\n\u001b[0;32m    260\u001b[0m \u001b[1;33m\u001b[0m\u001b[0m\n\u001b[1;32m--> 261\u001b[1;33m     \u001b[1;32mraise\u001b[0m \u001b[0mAttributeError\u001b[0m\u001b[1;33m(\u001b[0m\u001b[1;34mf\"module 'pandas' has no attribute '{name}'\"\u001b[0m\u001b[1;33m)\u001b[0m\u001b[1;33m\u001b[0m\u001b[1;33m\u001b[0m\u001b[0m\n\u001b[0m\u001b[0;32m    262\u001b[0m \u001b[1;33m\u001b[0m\u001b[0m\n\u001b[0;32m    263\u001b[0m \u001b[1;33m\u001b[0m\u001b[0m\n",
      "\u001b[1;31mAttributeError\u001b[0m: module 'pandas' has no attribute 'append_excel'"
     ]
    }
   ],
   "source": [
    "\n",
    "base = Tk()  \n",
    "base.geometry(\"500x500\")  \n",
    "base.title(\"registration form\")  \n",
    "\n",
    "file = pd.append_excel(\"C:\\\\Users\\\\ThanniruAnkamraju\\\\OneDrive - Leading T\\\\data.xlsx\",\"a\")\n",
    "if file.exits ():\n",
    "    pass\n",
    "else:\n",
    "    file=workbook()\n",
    "    sheet=file.active\n",
    "    sheet[\"A1\"]=\"Enter Name\"\n",
    "    sheet[\"B1\"]=\"Enter Email\"\n",
    "    sheet[\"C1\"]=\"Contact Number\"\n",
    "    sheet[\"D1\"]=\"Selct Gender\"\n",
    "    sheet[\"E1\"]=\"Select Country\"\n",
    "    sheet[\"F1\"]=\"Enter Password\"\n",
    "    sheet[\"G1\"]=\"Re-Enter Password\"\n",
    "    file.save(\"C:\\\\Users\\\\ThanniruAnkamraju\\\\OneDrive - Leading T\\\\data.xlsx\")\n",
    "lb1= Label(base, text=\"Enter Name\", width=10, font=(\"arial\",12))  \n",
    "lb1.place(x=20, y=120)  \n",
    "en1= Entry(base)  \n",
    "en1.place(x=200, y=120)  \n",
    "  \n",
    "lb3= Label(base, text=\"Enter Email\", width=10, font=(\"arial\",12))  \n",
    "lb3.place(x=19, y=160)  \n",
    "en3= Entry(base)  \n",
    "en3.place(x=200, y=160)  \n",
    "  \n",
    "lb4= Label(base, text=\"Contact Number\", width=13,font=(\"arial\",12))  \n",
    "lb4.place(x=19, y=200)  \n",
    "en4= Entry(base)  \n",
    "en4.place(x=200, y=200)  \n",
    "  \n",
    "lb5= Label(base, text=\"Select Gender\", width=15, font=(\"arial\",12))  \n",
    "lb5.place(x=5, y=240)  \n",
    "vars = IntVar()  \n",
    "Radiobutton(base, text=\"Male\", padx=5,variable=vars, value=1).place(x=180, y=240)  \n",
    "Radiobutton(base, text=\"Female\", padx =10,variable=vars, value=2).place(x=240,y=240)  \n",
    "Radiobutton(base, text=\"others\", padx=15, variable=vars, value=3).place(x=310,y=240)  \n",
    "  \n",
    "list_of_cntry = (\"United States\", \"India\", \"Nepal\", \"Germany\")  \n",
    "cv = StringVar()  \n",
    "drplist= OptionMenu(base, cv, *list_of_cntry)  \n",
    "drplist.config(width=15)  \n",
    "cv.set(\"United States\")  \n",
    "lb2= Label(base, text=\"Select Country\", width=13,font=(\"arial\",12))  \n",
    "lb2.place(x=14,y=280)  \n",
    "drplist.place(x=200, y=275)  \n",
    "  \n",
    "lb6= Label(base, text=\"Enter Password\", width=13,font=(\"arial\",12))  \n",
    "lb6.place(x=19, y=320)  \n",
    "en6= Entry(base, show='*')  \n",
    "en6.place(x=200, y=320)  \n",
    "  \n",
    "lb7= Label(base, text=\"Re-Enter Password\", width=15,font=(\"arial\",12))  \n",
    "lb7.place(x=21, y=360)  \n",
    "en7 =Entry(base, show='*')  \n",
    "en7.place(x=200, y=360)  \n",
    "  \n",
    "Button(base, text=\"Register\", width=10).place(x=200,y=400)  \n",
    "base.mainloop()  \n",
    "# f = open(current_date+'.csv','w+',newline = '')\n",
    "# lnwriter = csv.writer(f)"
   ]
  },
  {
   "cell_type": "code",
   "execution_count": 5,
   "id": "0e9ca98d",
   "metadata": {},
   "outputs": [
    {
     "name": "stdout",
     "output_type": "stream",
     "text": [
      "Requirement already satisfied: pathlib in c:\\users\\thanniruankamraju\\anaconda3\\lib\\site-packages (1.0.1)\n"
     ]
    }
   ],
   "source": [
    "!pip install pathlib"
   ]
  },
  {
   "cell_type": "code",
   "execution_count": null,
   "id": "1563eb84",
   "metadata": {},
   "outputs": [],
   "source": []
  }
 ],
 "metadata": {
  "kernelspec": {
   "display_name": "Python 3 (ipykernel)",
   "language": "python",
   "name": "python3"
  },
  "language_info": {
   "codemirror_mode": {
    "name": "ipython",
    "version": 3
   },
   "file_extension": ".py",
   "mimetype": "text/x-python",
   "name": "python",
   "nbconvert_exporter": "python",
   "pygments_lexer": "ipython3",
   "version": "3.9.13"
  }
 },
 "nbformat": 4,
 "nbformat_minor": 5
}
